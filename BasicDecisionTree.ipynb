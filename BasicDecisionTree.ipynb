{
 "cells": [
  {
   "cell_type": "code",
   "execution_count": 1,
   "metadata": {},
   "outputs": [],
   "source": [
    "import pandas as pd \n",
    "# save filepath to variable for easier access\n",
    "train_file_path = 'data/application_train.csv'\n",
    "# read the data and store data in DataFrame \n",
    "trainingdata = pd.read_csv(train_file_path)\n",
    "test_file_path = 'data/application_test.csv' \n",
    "testdata = pd.read_csv(test_file_path)"
   ]
  },
  {
   "cell_type": "code",
   "execution_count": 3,
   "metadata": {},
   "outputs": [],
   "source": [
    "from sklearn.tree import DecisionTreeRegressor\n",
    "from sklearn.metrics import mean_absolute_error\n",
    "from sklearn.model_selection import train_test_split\n",
    "\n",
    "def get_mae(max_leaf_nodes, predictors_train, predictors_val, targ_train, targ_val):\n",
    "    model = DecisionTreeRegressor(max_leaf_nodes=max_leaf_nodes, random_state=0)\n",
    "    model.fit(predictors_train, targ_train)\n",
    "    preds_val = model.predict(predictors_val)\n",
    "    mae = mean_absolute_error(targ_val, preds_val)\n",
    "    return(mae)\n"
   ]
  },
  {
   "cell_type": "code",
   "execution_count": 22,
   "metadata": {},
   "outputs": [
    {
     "name": "stdout",
     "output_type": "stream",
     "text": [
      "0.14307683459902384\n",
      "[0.15195911 0.06955433 0.05459096 ... 0.07310652 0.10386029 0.04793736]\n"
     ]
    }
   ],
   "source": [
    "\n",
    "possible_predictors = [ 'AMT_CREDIT', 'DAYS_BIRTH' , 'REGION_POPULATION_RELATIVE' , 'AMT_INCOME_TOTAL']\n",
    "X = trainingdata[possible_predictors]\n",
    "y = trainingdata.TARGET\n",
    "train_X, val_X, train_y, val_y = train_test_split(X, y,random_state = 0)\n",
    "# I can't seem to get this to work - outputs the MAE as 0 for all options. \n",
    "#for max_leaf_nodes in [5, 50, 500, 5000]:\n",
    "#    my_mae = get_mae(max_leaf_nodes, train_X, val_X, train_y, val_y)\n",
    "#    print(\"Max leaf nodes: %d  \\t\\t Mean Absolute Error:  %d\" %(max_leaf_nodes, my_mae))\n",
    "\n",
    "treemodel = DecisionTreeRegressor(max_leaf_nodes=500, random_state=0)\n",
    "\n",
    "treemodel.fit(X, y )\n",
    "val_predictions = treemodel.predict(X)\n",
    "print(mean_absolute_error(y, val_predictions))\n",
    "\n",
    "real_X = trainingdata[possible_predictors]\n",
    "real_predictions = treemodel.predict(real_X) \n",
    "\n",
    "print(real_predictions)\n"
   ]
  },
  {
   "cell_type": "code",
   "execution_count": null,
   "metadata": {},
   "outputs": [],
   "source": []
  }
 ],
 "metadata": {
  "kernelspec": {
   "display_name": "Python 3",
   "language": "python",
   "name": "python3"
  },
  "language_info": {
   "codemirror_mode": {
    "name": "ipython",
    "version": 3
   },
   "file_extension": ".py",
   "mimetype": "text/x-python",
   "name": "python",
   "nbconvert_exporter": "python",
   "pygments_lexer": "ipython3",
   "version": "3.6.5"
  }
 },
 "nbformat": 4,
 "nbformat_minor": 2
}
