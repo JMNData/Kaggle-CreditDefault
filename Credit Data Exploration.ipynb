{
 "cells": [
  {
   "cell_type": "markdown",
   "metadata": {},
   "source": [
    "# Credit Default Analysis\n",
    "\n",
    "## Notes and Approach\n",
    "Loading data for exploration"
   ]
  },
  {
   "cell_type": "code",
   "execution_count": 1,
   "metadata": {},
   "outputs": [],
   "source": [
    "import numpy as np\n",
    "import pandas as pd\n",
    "#import matplotlib.pyplot as plt\n",
    "#import seaborn as sns\n",
    "#from sklearn.preprocessing import Imputer\n",
    "#from sklearn.preprocessing import PolynomialFeatures\n",
    "#from sklearn.preprocessing import StandardScaler\n",
    "#from sklearn.feature_selection import VarianceThreshold\n",
    "#from sklearn.feature_selection import SelectFromModel\n",
    "#from sklearn.utils import shuffle\n",
    "#from sklearn.ensemble import RandomForestClassifier\n",
    "#from subprocess import check_output\n",
    "#import xgboost as xgb\n",
    "#from sklearn.ensemble import GradientBoostingClassifier\n",
    "#from sklearn.ensemble import GradientBoostingRegressor\n",
    "#from multiprocessing import *\n",
    "#from sklearn.model_selection import train_test_split\n",
    "#from sklearn.model_selection import StratifiedKFold\n",
    "#from sklearn.model_selection import KFold\n",
    "#from sklearn.metrics import accuracy_score\n",
    "#from sklearn.model_selection import cross_val_score\n",
    "\n",
    "pd.set_option('display.max_columns', 100)"
   ]
  },
  {
   "cell_type": "code",
   "execution_count": 2,
   "metadata": {},
   "outputs": [
    {
     "name": "stdout",
     "output_type": "stream",
     "text": [
      "Software Versions:\n",
      "3.5.4 |Anaconda custom (64-bit)| (default, Nov  8 2017, 14:34:30) [MSC v.1900 64 bit (AMD64)]\n",
      "IPython : 6.2.1\n",
      "IPython.core.release : 6.2.1\n",
      "PIL : 4.2.1\n",
      "PIL.version : 4.2.1\n",
      "_csv : 1.0\n",
      "_ctypes : 1.1.0\n",
      "_decimal : 1.70\n",
      "argparse : 1.1\n",
      "babel : 2.5.0\n",
      "cffi : 1.11.2\n",
      "cgi : 2.6\n",
      "colorama : 0.3.9\n",
      "csv : 1.0\n",
      "ctypes : 1.1.0\n",
      "cycler : 0.10.0\n",
      "dateutil : 2.6.1\n",
      "decimal : 1.70\n",
      "decorator : 4.1.2\n",
      "distutils : 3.5.4\n",
      "docutils : 0.14\n",
      "docutils.core : 0.14\n",
      "docutils.utils.roman : 1.4\n",
      "ipaddress : 1.0\n",
      "ipykernel : 4.7.0\n",
      "ipykernel._version : 4.7.0\n",
      "ipython_genutils : 0.2.0\n",
      "ipython_genutils._version : 0.2.0\n",
      "ipywidgets : 7.0.5\n",
      "ipywidgets._version : 7.0.5\n",
      "jedi : 0.11.0\n",
      "jinja2 : 2.10\n",
      "json : 2.0.9\n",
      "jupyter_client : 5.1.0\n",
      "jupyter_client._version : 5.1.0\n",
      "jupyter_core : 4.4.0\n",
      "jupyter_core.version : 4.4.0\n",
      "logging : 0.5.1.2\n",
      "markupsafe : 1.0\n",
      "matplotlib : 2.1.2\n",
      "numpy : 1.14.5\n",
      "numpy.core : 1.14.5\n",
      "numpy.core.multiarray : 3.1\n",
      "numpy.core.umath : b'0.4.0'\n",
      "numpy.lib : 1.14.5\n",
      "numpy.linalg._umath_linalg : b'0.1.5'\n",
      "numpydoc : 0.7.0\n",
      "optparse : 1.5.3\n",
      "pandas : 0.23.1\n",
      "pandas._libs.json : 1.33\n",
      "parso : 0.1.1\n",
      "pickleshare : 0.7.4\n",
      "pkg_resources._vendor.packaging.__about__ : 16.8\n",
      "pkg_resources._vendor.six : 1.10.0\n",
      "pkg_resources.extern.appdirs : 1.4.0\n",
      "pkg_resources.extern.packaging : 16.8\n",
      "pkg_resources.extern.pyparsing : 2.1.10\n",
      "pkg_resources.extern.six : 1.10.0\n",
      "platform : 1.0.7\n",
      "prompt_toolkit : 1.0.15\n",
      "pygments : 2.2.0\n",
      "pyparsing : 2.2.0\n",
      "pytz : 2017.3\n",
      "re : 2.2.1\n",
      "six : 1.11.0\n",
      "sphinx : 1.6.3\n",
      "sphinxcontrib.websupport : 1.0.1\n",
      "sphinxcontrib.websupport.version : 1.0.1\n",
      "traitlets : 4.3.2\n",
      "traitlets._version : 4.3.2\n",
      "urllib.request : 3.5\n",
      "zlib : 1.0\n",
      "zmq : 16.0.3\n",
      "zmq.sugar : 16.0.3\n",
      "zmq.sugar.version : 16.0.3\n"
     ]
    }
   ],
   "source": [
    "import sys\n",
    "print(\"Software Versions:\")\n",
    "print(sys.version)\n",
    "\n",
    "for name, module in sorted(sys.modules.items()): \n",
    "    if hasattr(module, '__version__'): \n",
    "        print(name + \" : \" + str(module.__version__))"
   ]
  },
  {
   "cell_type": "markdown",
   "metadata": {},
   "source": [
    "### Read all Tables"
   ]
  },
  {
   "cell_type": "code",
   "execution_count": 6,
   "metadata": {},
   "outputs": [],
   "source": [
    "tblapplication_test = pd.read_csv('data\\\\application_test.csv')\n",
    "tblapplication_train = pd.read_csv('data\\\\application_train.csv')\n",
    "tblbureau = pd.read_csv('data\\\\bureau.csv')\n",
    "tblbureau_balance = pd.read_csv('data\\\\bureau_balance.csv')\n",
    "tblcredit_card_balance = pd.read_csv('data\\\\credit_card_balance.csv')\n",
    "tblinstallments_payments = pd.read_csv('data\\\\installments_payments.csv')\n",
    "tblPOS_CASH_balance = pd.read_csv('data\\\\POS_CASH_balance.csv')\n",
    "tblprevious_application = pd.read_csv('data\\\\previous_application.csv')\n",
    "tblsample_submission = pd.read_csv('data\\\\sample_submission.csv')"
   ]
  },
  {
   "cell_type": "code",
   "execution_count": 12,
   "metadata": {},
   "outputs": [
    {
     "ename": "AttributeError",
     "evalue": "'str' object has no attribute 'shape'",
     "output_type": "error",
     "traceback": [
      "\u001b[1;31m---------------------------------------------------------------------------\u001b[0m",
      "\u001b[1;31mAttributeError\u001b[0m                            Traceback (most recent call last)",
      "\u001b[1;32m<ipython-input-12-8adc046daf10>\u001b[0m in \u001b[0;36m<module>\u001b[1;34m()\u001b[0m\n\u001b[0;32m      1\u001b[0m \u001b[0malldfs\u001b[0m \u001b[1;33m=\u001b[0m \u001b[1;33m[\u001b[0m\u001b[0mvar\u001b[0m \u001b[1;32mfor\u001b[0m \u001b[0mvar\u001b[0m \u001b[1;32min\u001b[0m \u001b[0mdir\u001b[0m\u001b[1;33m(\u001b[0m\u001b[1;33m)\u001b[0m \u001b[1;32mif\u001b[0m \u001b[0misinstance\u001b[0m\u001b[1;33m(\u001b[0m\u001b[0meval\u001b[0m\u001b[1;33m(\u001b[0m\u001b[0mvar\u001b[0m\u001b[1;33m)\u001b[0m\u001b[1;33m,\u001b[0m \u001b[0mpd\u001b[0m\u001b[1;33m.\u001b[0m\u001b[0mcore\u001b[0m\u001b[1;33m.\u001b[0m\u001b[0mframe\u001b[0m\u001b[1;33m.\u001b[0m\u001b[0mDataFrame\u001b[0m\u001b[1;33m)\u001b[0m\u001b[1;33m]\u001b[0m\u001b[1;33m\u001b[0m\u001b[0m\n\u001b[0;32m      2\u001b[0m \u001b[1;32mfor\u001b[0m \u001b[0md\u001b[0m \u001b[1;32min\u001b[0m \u001b[0malldfs\u001b[0m\u001b[1;33m:\u001b[0m\u001b[1;33m\u001b[0m\u001b[0m\n\u001b[1;32m----> 3\u001b[1;33m     \u001b[0mprint\u001b[0m\u001b[1;33m(\u001b[0m\u001b[0md\u001b[0m \u001b[1;33m+\u001b[0m \u001b[0mstr\u001b[0m\u001b[1;33m(\u001b[0m\u001b[0md\u001b[0m\u001b[1;33m.\u001b[0m\u001b[0mshape\u001b[0m\u001b[1;33m(\u001b[0m\u001b[1;33m)\u001b[0m\u001b[1;33m)\u001b[0m\u001b[1;33m)\u001b[0m\u001b[1;33m\u001b[0m\u001b[0m\n\u001b[0m",
      "\u001b[1;31mAttributeError\u001b[0m: 'str' object has no attribute 'shape'"
     ]
    }
   ],
   "source": [
    "alldfs = [var for var in dir() if isinstance(eval(var), pd.core.frame.DataFrame)]\n",
    "for d in alldfs:\n",
    "    print(d + str(d.shape()))"
   ]
  },
  {
   "cell_type": "code",
   "execution_count": null,
   "metadata": {},
   "outputs": [],
   "source": [
    "pd."
   ]
  }
 ],
 "metadata": {
  "kernelspec": {
   "display_name": "Python 3",
   "language": "python",
   "name": "python3"
  },
  "language_info": {
   "codemirror_mode": {
    "name": "ipython",
    "version": 3
   },
   "file_extension": ".py",
   "mimetype": "text/x-python",
   "name": "python",
   "nbconvert_exporter": "python",
   "pygments_lexer": "ipython3",
   "version": "3.6.5"
  }
 },
 "nbformat": 4,
 "nbformat_minor": 2
}
